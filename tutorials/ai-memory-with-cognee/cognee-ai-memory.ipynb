{
 "cells": [
  {
   "cell_type": "markdown",
   "id": "2ee20bbe",
   "metadata": {},
   "source": [
    "![](https://europe-west1-atp-views-tracker.cloudfunctions.net/working-analytics?notebook=tutorials--ai-memory-with-cognee--cognee-ai-memory)\n",
    "\n",
    "# Building Intelligent AI Memory Systems with Cognee: A Python Development Knowledge Graph\n",
    "\n",
    "This tutorial demonstrates how to construct an intelligent knowledge system that unifies authoritative Python practices, community standards, and personal development context into a coherent AI memory layer. By connecting contributions from Python's creator Guido van Rossum with established design principles and your own development patterns, you'll create a knowledge graph that produces contextually relevant, explainable, and consistent insights for Python development.\n"
   ]
  },
  {
   "cell_type": "markdown",
   "id": "6f22c8fe6d92cfcc",
   "metadata": {},
   "source": []
  },
  {
   "cell_type": "markdown",
   "id": "fe69acbf9ab1a22b",
   "metadata": {},
   "source": [
    "## Understanding the Architecture\n",
    "\n",
    "Modern software development involves navigating multiple sources of truth: language documentation, community best practices, historical code examples, and personal experience. Traditional approaches treat these as separate resources, requiring manual synthesis and interpretation. This tutorial demonstrates a fundamentally different approach using knowledge graphs and retrieval-augmented generation.\n",
    "\n",
    "The system we're building transforms scattered development data into an interconnected knowledge network. Rather than searching through isolated documents, you'll query a unified graph that understands relationships between Python's design philosophy, real-world implementation patterns from its creator, and your specific development context. This enables discovering non-obvious connections, such as how a type hinting challenge you faced relates to solutions Guido implemented in mypy, or how your async patterns align with Python's core design principles.\n",
    "\n",
    "The power of this approach lies in its ability to infer implicit relationships and rules from your data. Through advanced graph algorithms and AI processing, the system identifies patterns that span across different data sources, creating a memory layer that grows more intelligent with each interaction."
   ]
  },
  {
   "cell_type": "markdown",
   "id": "visual-flow-diagram",
   "metadata": {},
   "source": [
    "## System Architecture and Data Flow\n",
    "\n",
    "\n",
    "# <div align=\"center\">\n",
    "#   <img src=\"tutorials/ai-memory-with-cognee/data/cognee_diagram.png\" alt=\"System Architecture and Data Flow\" width=\"700\"/>\n",
    "# </div>\n",
    "\n"
   ]
  },
  {
   "cell_type": "markdown",
   "id": "b03b59c064213dd4",
   "metadata": {},
   "source": [
    "## Core Operations in Cognee\n",
    "\n",
    "The Cognee framework provides four fundamental operations that transform raw data into intelligent knowledge systems. Each operation serves a specific purpose in the knowledge graph pipeline.\n",
    "\n",
    "The **add()** function serves as the entry point for data ingestion, accepting various formats including JSON, Markdown, and API responses. This operation normalizes and prepares data for graph construction. The **cognify()** function represents the core transformation engine, using AI to extract entities, identify relationships, and structure data into a traversable knowledge graph. Through **search()**, users interact with the graph using natural language queries or structured Cypher expressions, with the system understanding context and relationships to return relevant results. Finally, **memify()** applies advanced algorithms to infer implicit connections and rules from the data, creating a dynamic memory layer that enhances search capabilities and discovers non-obvious patterns.\n",
    "\n",
    "These operations work together to create a system that not only stores information but understands and connects it in meaningful ways."
   ]
  },
  {
   "cell_type": "markdown",
   "id": "6a7669fbb6a3e6c7",
   "metadata": {},
   "source": [
    "## Data Sources and Their Roles\n",
    "\n",
    "This tutorial leverages a carefully curated set of data sources that represent different perspectives on Python development. Each source contributes unique value to the knowledge graph.\n",
    "\n",
    "The **guido_contributions.json** file contains actual pull requests and commits from Guido van Rossum's work on mypy and CPython. These provide authoritative examples of how Python's creator approaches language design and problem-solving. The **pep_style_guide.md** encodes community-accepted standards for Python code style and typing conventions, ensuring that generated insights align with established best practices. The **zen_principles.md** captures Python's philosophical foundation, grounding technical decisions in principles of simplicity, explicitness, and readability.\n",
    "\n",
    "Personal context comes from **my_developer_rules.md**, which contains project-specific conventions and constraints, and **copilot_conversations.json**, which preserves actual development conversations including questions, code snippets, and discussion topics. This combination creates a comprehensive knowledge base that spans from language philosophy to practical implementation."
   ]
  },
  {
   "cell_type": "markdown",
   "id": "2a5dac2c6fdc7ca7",
   "metadata": {},
   "source": [
    "## Environment Setup and Configuration\n",
    "\n",
    "Cognee operates using asynchronous functions to handle complex graph operations efficiently. The following setup ensures proper execution within a Jupyter notebook environment."
   ]
  },
  {
   "cell_type": "markdown",
   "id": "async-setup-cell",
   "metadata": {},
   "source": [
    "### Enabling Asynchronous Execution\n",
    "\n",
    "Configure the notebook environment to support async/await operations required by Cognee's graph processing engine."
   ]
  },
  {
   "cell_type": "code",
   "execution_count": null,
   "id": "c03eba35",
   "metadata": {},
   "outputs": [],
   "source": [
    "%pip install cognee==0.3.3"
   ]
  },
  {
   "cell_type": "code",
   "execution_count": 35,
   "id": "20cb02b49e3c53e2",
   "metadata": {},
   "outputs": [],
   "source": [
    "import nest_asyncio\n",
    "nest_asyncio.apply()"
   ]
  },
  {
   "cell_type": "markdown",
   "id": "30e66c894fb4cfd5",
   "metadata": {},
   "source": [
    "## Model Configuration\n",
    "\n",
    "For optimal balance between processing speed, cost efficiency, and output quality, this tutorial uses OpenAI's GPT-4o-mini model. Ensure your environment configuration file (.env) contains the following setting:\n",
    "\n",
    "```\n",
    "LLM_MODEL=\"gpt-4o-mini\"\n",
    "```\n",
    "\n",
    "This model provides sufficient capability for entity extraction and relationship mapping while maintaining reasonable processing times for educational purposes."
   ]
  },
  {
   "cell_type": "markdown",
   "id": "import-verification",
   "metadata": {},
   "source": [
    "### Verifying Cognee Installation\n",
    "\n",
    "Confirm that Cognee is properly installed and identify whether you're using a local development version or an installed package."
   ]
  },
  {
   "cell_type": "code",
   "execution_count": null,
   "id": "9386ecb596860399",
   "metadata": {},
   "outputs": [],
   "source": [
    "import cognee\n",
    "import os\n",
    "from pathlib import Path\n",
    "\n",
    "print('Quick Cognee Import Check')\n",
    "print('=' * 30)\n",
    "print(f'Cognee location: {cognee.__file__}')\n",
    "print(f'Package directory: {os.path.dirname(cognee.__file__)}')\n",
    "\n",
    "# Check if it's local or installed\n",
    "current_dir = Path.cwd()\n",
    "cognee_path = Path(cognee.__file__)\n",
    "if current_dir in cognee_path.parents:\n",
    "    print('Status: LOCAL DEVELOPMENT VERSION')\n",
    "else:\n",
    "    print('Status: INSTALLED PACKAGE')"
   ]
  },
  {
   "cell_type": "markdown",
   "id": "path-configuration",
   "metadata": {},
   "source": [
    "### Configuring Python Path\n",
    "\n",
    "Ensure the Python interpreter can locate all necessary modules by adding the project root to the system path."
   ]
  },
  {
   "cell_type": "code",
   "execution_count": null,
   "id": "19e74e6b691020db",
   "metadata": {},
   "outputs": [],
   "source": [
    "import sys\n",
    "from pathlib import Path\n",
    "notebook_dir = Path.cwd()\n",
    "if notebook_dir.name == 'notebooks':\n",
    "    project_root = notebook_dir.parent\n",
    "else:\n",
    "    project_root = Path.cwd()\n",
    "\n",
    "# Add project root to the beginning of sys.path\n",
    "project_root_str = str(project_root.absolute())\n",
    "if project_root_str not in sys.path:\n",
    "    sys.path.insert(0, project_root_str)\n",
    "\n",
    "print(f\"Project root: {project_root_str}\")"
   ]
  },
  {
   "cell_type": "markdown",
   "id": "data-cleanup",
   "metadata": {},
   "source": [
    "### Initializing Clean State\n",
    "\n",
    "Remove any existing Cognee data to ensure the tutorial starts with a fresh knowledge graph."
   ]
  },
  {
   "cell_type": "code",
   "execution_count": null,
   "id": "dd47383aa9519465",
   "metadata": {},
   "outputs": [],
   "source": [
    "await cognee.prune.prune_data()\n",
    "await cognee.prune.prune_system(metadata=True)"
   ]
  },
  {
   "cell_type": "markdown",
   "id": "93c9783037715026",
   "metadata": {},
   "source": [
    "## Building the Knowledge Graph: Guido's Contributions\n",
    "\n",
    "The knowledge graph construction begins with ingesting Guido van Rossum's development history. This dataset contains detailed pull requests and commits from his work on mypy and CPython, providing concrete examples of language design decisions and implementation patterns.\n",
    "\n",
    "The ingestion process involves two key steps. First, the add() function loads the raw JSON data and assigns it to a named node set for organizational purposes. Then, cognify() processes this data to extract entities, identify relationships, and build temporal connections between different contributions. The temporal_cognify parameter enables time-based analysis, allowing queries about the evolution of Python features over time."
   ]
  },
  {
   "cell_type": "markdown",
   "id": "initial-ingestion",
   "metadata": {},
   "source": [
    "### Loading and Processing Guido's Development Data\n",
    "\n",
    "Ingest the contributions data and build the initial knowledge graph with temporal awareness."
   ]
  },
  {
   "cell_type": "code",
   "execution_count": null,
   "id": "b8743ed520b4de37",
   "metadata": {},
   "outputs": [],
   "source": [
    "import cognee\n",
    "\n",
    "result = await cognee.add(\n",
    "    os.path.abspath(\"data/guido_contributions.json\"),\n",
    "    node_set=[\"guido_data\"]\n",
    ")\n",
    "await cognee.cognify(temporal_cognify=True)"
   ]
  },
  {
   "cell_type": "markdown",
   "id": "display-results",
   "metadata": {},
   "source": [
    "### Examining Initial Search Results\n",
    "\n",
    "Display the first search result to verify successful graph construction."
   ]
  },
  {
   "cell_type": "code",
   "execution_count": 40,
   "id": "f08b362cbf12b398",
   "metadata": {},
   "outputs": [
    {
     "name": "stderr",
     "output_type": "stream",
     "text": [
      "\n",
      "\u001b[2m2025-09-21T11:58:36.464059\u001b[0m [\u001b[32m\u001b[1minfo     \u001b[0m] \u001b[1mGraph projection completed: 126 nodes, 241 edges in 0.02s\u001b[0m [\u001b[0m\u001b[1m\u001b[34mCogneeGraph\u001b[0m]\u001b[0m\n",
      "\n",
      "\u001b[2m2025-09-21T11:58:37.391679\u001b[0m [\u001b[32m\u001b[1minfo     \u001b[0m] \u001b[1mVector collection retrieval completed: Retrieved distances from 6 collections in 0.15s\u001b[0m [\u001b[0m\u001b[1m\u001b[34mcognee.shared.logging_utils\u001b[0m]\u001b[0m\n"
     ]
    },
    {
     "name": "stdout",
     "output_type": "stream",
     "text": [
      "The commits are related to modifications in mypy files where changes were made to handle type guards in callable types and argument acceptance in functions. These modifications include caching type guards, checking for restrictions, and making adjustments to infer constraints. Notable changes were introduced in commit #9865.\n"
     ]
    }
   ],
   "source": [
    "results = await cognee.search(\"Show me commits\")\n",
    "print(results[0])"
   ]
  },
  {
   "cell_type": "markdown",
   "id": "10d582d02ead905e",
   "metadata": {},
   "source": [
    "## Understanding Graph Structure Through Visualization\n",
    "\n",
    "The search operation demonstrates a fundamental difference from traditional database queries. Rather than retrieving isolated records, Cognee traverses a knowledge graph that understands relationships between commits, language features, design decisions, and their evolution over time. This enables discovery of patterns and connections that would be difficult to identify through conventional search methods.\n",
    "\n",
    "Visualization provides crucial insights into the graph's structure and the relationships Cognee has identified. The interactive graph reveals clustering patterns around different projects and time periods, showing how ideas evolved into features and how different contributions relate to each other."
   ]
  },
  {
   "cell_type": "markdown",
   "id": "graph-generation",
   "metadata": {},
   "source": [
    "### Generating Interactive Graph Visualization\n",
    "\n",
    "Create an HTML visualization of the knowledge graph structure."
   ]
  },
  {
   "cell_type": "code",
   "execution_count": null,
   "id": "1fb068f422bda6cf",
   "metadata": {},
   "outputs": [],
   "source": [
    "from cognee import visualize_graph\n",
    "await visualize_graph('./guido_contributions.html')"
   ]
  },
  {
   "cell_type": "markdown",
   "id": "graph-display",
   "metadata": {},
   "source": [
    "### Displaying the Knowledge Graph\n",
    "\n",
    "Render the interactive visualization within the notebook for exploration."
   ]
  },
  {
   "cell_type": "code",
   "execution_count": 42,
   "id": "f24341c97d6eaccb",
   "metadata": {},
   "outputs": [
    {
     "data": {
      "text/html": [
       "\n",
       "        <iframe\n",
       "            width=\"100%\"\n",
       "            height=\"500\"\n",
       "            src=\"./guido_contributions.html\"\n",
       "            frameborder=\"0\"\n",
       "            allowfullscreen\n",
       "            \n",
       "        ></iframe>\n",
       "        "
      ],
      "text/plain": [
       "<IPython.lib.display.IFrame at 0x21e890d9af0>"
      ]
     },
     "metadata": {},
     "output_type": "display_data"
    }
   ],
   "source": [
    "from IPython.display import IFrame, HTML, display\n",
    "display(IFrame(\"./guido_contributions.html\", width=\"100%\", height=\"500\"))"
   ]
  },
  {
   "cell_type": "code",
   "execution_count": 43,
   "id": "2f349079",
   "metadata": {},
   "outputs": [
    {
     "name": "stdout",
     "output_type": "stream",
     "text": [
      "HTML file path: C:\\Users\\N7\\PycharmProjects\\agents-towards-production-private\\tutorials\\ai-memory-with-cognee\\guido_contributions.html\n",
      "Opening: file:///C:/Users/N7/PycharmProjects/agents-towards-production-private/tutorials/ai-memory-with-cognee/guido_contributions.html\n"
     ]
    },
    {
     "data": {
      "text/plain": [
       "True"
      ]
     },
     "execution_count": 43,
     "metadata": {},
     "output_type": "execute_result"
    }
   ],
   "source": [
    "# Alternative method to open the graph directly in your default browser, if the IFrame doesn't work\n",
    "import os\n",
    "import webbrowser\n",
    "from pathlib import Path\n",
    "\n",
    "html_path = Path('guido_contributions.html').resolve()\n",
    "file_url = html_path.as_uri()\n",
    "\n",
    "print(f\"HTML file path: {html_path}\")\n",
    "print(f\"Opening: {file_url}\")\n",
    "\n",
    "webbrowser.open(file_url)\n"
   ]
  },
  {
   "cell_type": "markdown",
   "id": "3418aa17bf35e3bb",
   "metadata": {},
   "source": [
    "## Graph Analysis and Pattern Recognition\n",
    "\n",
    "The visualization reveals several important patterns in Python's development history. CPython core development shows concentrated activity around 2020, while mypy contributions focus specifically on fixtures and run classes. PEP discussions create connections to other contributors like Thomas Grainger and Adam Turner, showing the collaborative nature of language evolution. Time-based connections demonstrate how initial ideas and discussions evolved into concrete features and implementations.\n",
    "\n",
    "These visual patterns help understand not just what changes were made, but how different aspects of Python development interconnect. The graph structure makes it possible to trace the evolution of ideas from initial proposals through implementation and refinement.\n",
    "\n",
    "The interactive nature of the visualization allows for deeper exploration. You can examine specific clusters to understand focused development efforts or trace connections between seemingly unrelated contributions to discover hidden patterns in Python's evolution."
   ]
  },
  {
   "cell_type": "markdown",
   "id": "5e8d9094a09ae05d",
   "metadata": {},
   "source": [
    "## Expanding the Knowledge Graph\n",
    "\n",
    "With the foundation established through Guido's contributions, the next phase involves integrating additional data sources to create a comprehensive knowledge system. This expansion connects authoritative examples with community standards, design philosophy, and personal development context.\n",
    "\n",
    "Each data source is assigned to a specific node set, creating logical groupings within the graph. Developer-specific data including conversations and personal rules forms one cluster, while principles and guidelines form another. This organization enables targeted searches within specific domains while maintaining connections across the entire graph."
   ]
  },
  {
   "cell_type": "markdown",
   "id": "comprehensive-ingestion",
   "metadata": {},
   "source": [
    "### Ingesting Complete Data Set\n",
    "\n",
    "Add all remaining data sources and process them into the unified knowledge graph."
   ]
  },
  {
   "cell_type": "code",
   "execution_count": null,
   "id": "5315318324968f0f",
   "metadata": {},
   "outputs": [],
   "source": [
    "import os\n",
    "\n",
    "await cognee.add(os.path.abspath(\"data/copilot_conversations.json\"), node_set=[\"developer_data\"])\n",
    "await cognee.add(os.path.abspath(\"data/my_developer_rules.md\"), node_set=[\"developer_data\"])\n",
    "await cognee.add(os.path.abspath(\"data/zen_principles.md\"), node_set=[\"principles_data\"])\n",
    "await cognee.add(os.path.abspath(\"data/pep_style_guide.md\"), node_set=[\"principles_data\"])\n",
    "\n",
    "await cognee.cognify(temporal_cognify=True)"
   ]
  },
  {
   "cell_type": "markdown",
   "id": "cross-reference-search",
   "metadata": {},
   "source": [
    "### Discovering Cross-Domain Connections\n",
    "\n",
    "Query the expanded graph to find connections between personal development challenges and Guido's solutions."
   ]
  },
  {
   "cell_type": "code",
   "execution_count": 45,
   "id": "98b69c45db2fca3",
   "metadata": {},
   "outputs": [
    {
     "name": "stderr",
     "output_type": "stream",
     "text": [
      "\n",
      "\u001b[2m2025-09-21T12:00:53.051114\u001b[0m [\u001b[32m\u001b[1minfo     \u001b[0m] \u001b[1mGraph projection completed: 397 nodes, 775 edges in 0.03s\u001b[0m [\u001b[0m\u001b[1m\u001b[34mCogneeGraph\u001b[0m]\u001b[0m\n",
      "\n",
      "\u001b[2m2025-09-21T12:00:53.984339\u001b[0m [\u001b[32m\u001b[1minfo     \u001b[0m] \u001b[1mVector collection retrieval completed: Retrieved distances from 6 collections in 0.06s\u001b[0m [\u001b[0m\u001b[1m\u001b[34mcognee.shared.logging_utils\u001b[0m]\u001b[0m\n"
     ]
    },
    {
     "name": "stdout",
     "output_type": "stream",
     "text": [
      "['In January 2024, the validation issues encountered can be related to runtime validation, user input validation, and style checking. These issues may include:\\n\\n1. **Runtime Validation Issues**: Problems with validating external data not adhering to expected formats or types.\\n2. **User Input Validation**: Ensuring that user inputs are properly validated to avoid invalid data being processed.\\n3. **Style Checking**: Non-compliance with coding standards, affecting readability and maintainability of the code.\\n\\nGuido\\'s contributions would address these issues by emphasizing the importance of Pydantic for runtime validation, advocating for clear and explicit code practices as outlined in \"The Zen of Python\" (e.g., reading code, error handling, simplicity), and fostering the use of standard library patterns for better understanding and maintenance.']\n"
     ]
    }
   ],
   "source": [
    "results = await cognee.search(\n",
    "    \"What validation issues did I encounter in January 2024, and how would they be addressed in Guido's contributions?\",\n",
    "    query_type=cognee.SearchType.GRAPH_COMPLETION\n",
    ")\n",
    "print(results)"
   ]
  },
  {
   "cell_type": "markdown",
   "id": "6c49c4c252036fa1",
   "metadata": {},
   "source": [
    "## Analyzing Connected Insights\n",
    "\n",
    "The search results demonstrate how Cognee connects disparate data sources to provide contextual insights. The system identifies patterns between your development challenges and Guido's historical solutions, revealing connections such as circular import issues in type hints that mirror problems Guido solved in specific mypy pull requests, or performance optimizations in list comprehensions that follow patterns established in CPython commits.\n",
    "\n",
    "These connections go beyond simple keyword matching. The graph understands the semantic relationships between different concepts, allowing it to recognize that a type hinting challenge you encountered relates conceptually to work done in mypy, even if the specific terminology differs."
   ]
  },
  {
   "cell_type": "markdown",
   "id": "a1f4606bfed8fc45",
   "metadata": {},
   "source": [
    "## Advanced Memory Layer Construction\n",
    "\n",
    "The memify operation represents the most sophisticated aspect of Cognee's knowledge processing. This function applies advanced algorithms to the existing graph, inferring implicit rules and patterns that span across different data sources. Unlike basic graph construction, memify creates a dynamic memory layer that understands not just what information exists, but how different pieces of information relate to and influence each other.\n",
    "\n",
    "The memory layer enables the system to recognize patterns such as recurring design decisions in Guido's contributions that align with specific Zen principles, or common resolution strategies for particular types of Python challenges. This creates a form of institutional memory that can provide guidance based on historical patterns and established best practices."
   ]
  },
  {
   "cell_type": "markdown",
   "id": "memory-construction",
   "metadata": {},
   "source": [
    "### Building the Intelligent Memory Layer\n",
    "\n",
    "Apply advanced pattern recognition and rule inference algorithms to create the memory layer."
   ]
  },
  {
   "cell_type": "code",
   "execution_count": null,
   "id": "20234960f7566b15",
   "metadata": {},
   "outputs": [],
   "source": [
    "await cognee.memify()"
   ]
  },
  {
   "cell_type": "markdown",
   "id": "58d3ccec16f67c24",
   "metadata": {},
   "source": [
    "## Memory Layer Capabilities\n",
    "\n",
    "The memify operation enhances the knowledge graph with several sophisticated capabilities specific to Python development. It infers coding patterns from examples, recognizing when certain approaches consistently appear in similar contexts. The system connects abstract design philosophy to concrete implementation decisions, linking principles like \"explicit is better than implicit\" to specific coding choices in type hinting or API design.\n",
    "\n",
    "This creates a feedback loop where the system learns from both authoritative sources and practical experience, continuously refining its understanding of effective Python development patterns."
   ]
  },
  {
   "cell_type": "markdown",
   "id": "pattern-analysis",
   "metadata": {},
   "source": [
    "### Analyzing Design Pattern Alignment\n",
    "\n",
    "Query the memory-enhanced graph to understand how personal implementations align with Python philosophy."
   ]
  },
  {
   "cell_type": "code",
   "execution_count": 47,
   "id": "518fa9b17a604657",
   "metadata": {},
   "outputs": [
    {
     "name": "stderr",
     "output_type": "stream",
     "text": [
      "\n",
      "\u001b[2m2025-09-21T12:02:27.935362\u001b[0m [\u001b[32m\u001b[1minfo     \u001b[0m] \u001b[1mGraph projection completed: 430 nodes, 839 edges in 0.02s\u001b[0m [\u001b[0m\u001b[1m\u001b[34mCogneeGraph\u001b[0m]\u001b[0m\n",
      "\n",
      "\u001b[2m2025-09-21T12:02:28.954686\u001b[0m [\u001b[32m\u001b[1minfo     \u001b[0m] \u001b[1mVector collection retrieval completed: Retrieved distances from 6 collections in 0.09s\u001b[0m [\u001b[0m\u001b[1m\u001b[34mcognee.shared.logging_utils\u001b[0m]\u001b[0m\n"
     ]
    },
    {
     "name": "stdout",
     "output_type": "stream",
     "text": [
      "Python Pattern Analysis: [\"Your AsyncWebScraper implementation aligns with Python's design principles in several ways:\\n\\n1. **Explicit is better than implicit**: Ensure clear behavior, imports, and typing within your implementation.\\n2. **Readability counts**: Use docstrings and clean formatting to make your code easily understandable.\\n3. **Simple is better than complex**: Strive for straightforward solutions when structuring your scraper logic.\\n4. **Errors should never pass silently**: Handle exceptions explicitly and provide context in your logging.\\n5. **There should be one obvious way to do it**: Follow standard Python idioms and leverage libraries like aiohttp for asynchronous requests, adhering to practical solutions that facilitate maintenance.\"]\n"
     ]
    }
   ],
   "source": [
    "# Search for connections between your async patterns and Python philosophy\n",
    "results = await cognee.search(\n",
    "    query_text= \"How does my AsyncWebScraper implementation align with Python's design principles?\",\n",
    "    query_type=cognee.SearchType.GRAPH_COMPLETION\n",
    ")\n",
    "print(\"Python Pattern Analysis:\", results)"
   ]
  },
  {
   "cell_type": "markdown",
   "id": "2c77c1582ab9fc32",
   "metadata": {},
   "source": [
    "## Targeted Search with Node Set Filtering\n",
    "\n",
    "The node set organization established during data ingestion enables precise, targeted searches within specific domains of the knowledge graph. This filtering capability proves particularly valuable when seeking authoritative guidance on specific topics, as it allows queries to focus on relevant data sources while maintaining awareness of the broader context.\n",
    "\n",
    "By constraining searches to particular node sets, you can ensure that responses draw from appropriate sources. Questions about style guidelines can be directed specifically to PEP documents and design principles, while implementation questions can focus on actual code examples and developer experiences."
   ]
  },
  {
   "cell_type": "markdown",
   "id": "filtered-search",
   "metadata": {},
   "source": [
    "### Searching Within Specific Knowledge Domains\n",
    "\n",
    "Demonstrate targeted search by querying only the principles and guidelines node set."
   ]
  },
  {
   "cell_type": "code",
   "execution_count": 48,
   "id": "c64036c03abe41e7",
   "metadata": {},
   "outputs": [
    {
     "name": "stderr",
     "output_type": "stream",
     "text": [
      "\n",
      "\u001b[2m2025-09-21T12:02:49.030834\u001b[0m [\u001b[32m\u001b[1minfo     \u001b[0m] \u001b[1mGraph projection completed: 5 nodes, 12 edges in 0.01s\u001b[0m [\u001b[0m\u001b[1m\u001b[34mCogneeGraph\u001b[0m]\u001b[0m\n",
      "\n",
      "\u001b[2m2025-09-21T12:02:49.962121\u001b[0m [\u001b[32m\u001b[1minfo     \u001b[0m] \u001b[1mVector collection retrieval completed: Retrieved distances from 6 collections in 0.08s\u001b[0m [\u001b[0m\u001b[1m\u001b[34mcognee.shared.logging_utils\u001b[0m]\u001b[0m\n"
     ]
    }
   ],
   "source": [
    "from cognee.modules.engine.models.node_set import NodeSet\n",
    "results = await cognee.search(\n",
    "    query_text= \"How should variables be named?\",\n",
    "    query_type=cognee.SearchType.GRAPH_COMPLETION,\n",
    "    node_type=NodeSet,\n",
    "    node_name=['principles_data']\n",
    ")"
   ]
  },
  {
   "cell_type": "markdown",
   "id": "c641b8b7e50dd2ae",
   "metadata": {},
   "source": [
    "## Temporal Analysis Capabilities\n",
    "\n",
    "The temporal cognify option enabled during graph construction provides powerful capabilities for understanding how Python development has evolved over time. This temporal awareness allows queries that explore trends, identify periods of intense development activity, or understand how specific features emerged and matured.\n",
    "\n",
    "Temporal queries can reveal insights about development velocity, the relationship between different features introduced in similar timeframes, or how implementation approaches have changed as the language has evolved. This historical perspective provides valuable context for understanding current best practices and anticipating future directions."
   ]
  },
  {
   "cell_type": "markdown",
   "id": "temporal-query",
   "metadata": {},
   "source": [
    "### Exploring Time-Based Development Patterns\n",
    "\n",
    "Query the temporal aspects of the knowledge graph to understand development evolution."
   ]
  },
  {
   "cell_type": "code",
   "execution_count": 49,
   "id": "28e7d5a75e076b8f",
   "metadata": {},
   "outputs": [
    {
     "data": {
      "text/plain": [
       "[\"In 2025, we can learn from Guido's contributions that addressing missing type annotations is crucial for improving test coverage in the mypyc repository. His actions, including adding type annotations and setting check_untyped_defs to True for tests, emphasize the importance of type safety and thorough testing in software development.\"]"
      ]
     },
     "execution_count": 49,
     "metadata": {},
     "output_type": "execute_result"
    }
   ],
   "source": [
    "await cognee.search(\n",
    "    query_text = \"What can we learn from Guido's contributions in 2025?\",\n",
    "    query_type=cognee.SearchType.TEMPORAL\n",
    ")"
   ]
  },
  {
   "cell_type": "markdown",
   "id": "ec6cf074a6c272ab",
   "metadata": {},
   "source": [
    "## Implementing Continuous Learning Through Feedback\n",
    "\n",
    "The knowledge graph system supports continuous improvement through a feedback mechanism that captures the utility and relevance of search results. This creates a learning system that adapts to your specific needs and preferences over time.\n",
    "\n",
    "When search interactions are saved, the system can track which types of queries are most common, which results prove most useful, and how your development focus evolves. This feedback becomes part of the graph itself, influencing future searches and helping the system provide increasingly relevant results."
   ]
  },
  {
   "cell_type": "markdown",
   "id": "feedback-enabled-search",
   "metadata": {},
   "source": [
    "### Executing Search with Feedback Tracking\n",
    "\n",
    "Perform a search with interaction saving enabled to support future feedback."
   ]
  },
  {
   "cell_type": "code",
   "execution_count": 50,
   "id": "67dec85a658aad76",
   "metadata": {},
   "outputs": [
    {
     "name": "stderr",
     "output_type": "stream",
     "text": [
      "\n",
      "\u001b[2m2025-09-21T12:03:07.169557\u001b[0m [\u001b[32m\u001b[1minfo     \u001b[0m] \u001b[1mGraph projection completed: 430 nodes, 839 edges in 0.03s\u001b[0m [\u001b[0m\u001b[1m\u001b[34mCogneeGraph\u001b[0m]\u001b[0m\n",
      "\n",
      "\u001b[2m2025-09-21T12:03:07.945677\u001b[0m [\u001b[32m\u001b[1minfo     \u001b[0m] \u001b[1mVector collection retrieval completed: Retrieved distances from 6 collections in 0.05s\u001b[0m [\u001b[0m\u001b[1m\u001b[34mcognee.shared.logging_utils\u001b[0m]\u001b[0m\n"
     ]
    }
   ],
   "source": [
    "answer = await cognee.search(\n",
    "    query_type=cognee.SearchType.GRAPH_COMPLETION,\n",
    "    query_text=\"What is the most zen thing about Python?\",\n",
    "    save_interaction=True,  # This enables feedback later\n",
    ")"
   ]
  },
  {
   "cell_type": "markdown",
   "id": "feedback-submission",
   "metadata": {},
   "source": [
    "### Providing Feedback to Enhance Future Searches\n",
    "\n",
    "Submit feedback about the search result to improve the system's understanding of your preferences."
   ]
  },
  {
   "cell_type": "code",
   "execution_count": 51,
   "id": "870149ea58fd109c",
   "metadata": {},
   "outputs": [],
   "source": [
    "feedback = await cognee.search(\n",
    "    query_type=cognee.SearchType.FEEDBACK,\n",
    "    query_text=\"Last result was useful, I like code that complies with best practices.\",\n",
    "    last_k=1,\n",
    ")"
   ]
  },
  {
   "cell_type": "markdown",
   "id": "conclusion",
   "metadata": {},
   "source": [
    "## Conclusion and Next Steps\n",
    "\n",
    "This tutorial has demonstrated the construction of an intelligent knowledge system that unifies multiple perspectives on Python development into a coherent, queryable graph. The system you've built connects authoritative examples from Python's creator with community standards, design philosophy, and personal development experience, creating a powerful tool for informed decision-making in Python development.\n",
    "\n",
    "The knowledge graph approach offers significant advantages over traditional documentation and search methods. By understanding relationships between different pieces of information, the system can provide insights that would be difficult or impossible to discover through conventional means. The temporal awareness, pattern recognition, and feedback mechanisms create a dynamic system that grows more valuable over time.\n",
    "\n",
    "As you continue to use and expand this system, consider adding additional data sources such as project documentation, code reviews, or technical discussions. Each new data source enriches the graph, creating more connections and enabling more sophisticated insights. The feedback loop ensures that the system adapts to your specific needs, becoming an increasingly valuable partner in your Python development journey."
   ]
  }
 ],
 "metadata": {
  "kernelspec": {
   "display_name": ".venv",
   "language": "python",
   "name": "python3"
  },
  "language_info": {
   "codemirror_mode": {
    "name": "ipython",
    "version": 3
   },
   "file_extension": ".py",
   "mimetype": "text/x-python",
   "name": "python",
   "nbconvert_exporter": "python",
   "pygments_lexer": "ipython3",
   "version": "3.12.0"
  }
 },
 "nbformat": 4,
 "nbformat_minor": 5
}
