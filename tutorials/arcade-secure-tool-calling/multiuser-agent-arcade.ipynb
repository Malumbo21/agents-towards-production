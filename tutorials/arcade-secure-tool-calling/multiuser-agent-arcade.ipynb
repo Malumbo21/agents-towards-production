{
  "cells": [
    {
      "cell_type": "markdown",
      "metadata": {
        "id": "UX4MkvvmCrDJ"
      },
      "source": [
        "![](https://europe-west1-atp-views-tracker.cloudfunctions.net/working-analytics?notebook=tutorials--multi-user-agent-arcade--multiuser-agent-arcade)\n",
        "\n",
        "# Secure tool calling with Arcade.dev\n",
        "\n",
        "This tutorial will help you close one of the biggest gaps between demo and production agents: __Secure tool-calling__\n",
        "\n",
        "When your agents work well in your computer, they are excellent personal assistants, but scaling that up to many users is not easy, as the security assumptions from a local deployment do not apply to agents at scale. Personal Access Tokens simply won't cut it for multiple users. Even if you encapsulate all of the functionality in a remote MCP server, tool-level auth will require you to implement the auth flow for all the providers that your agent relies on.\n",
        "\n",
        "Arcade solves this by providing a unified platform for agentic tool execution. It will handle the auth flow for you offering a secure multi-user solution for your agents.\n",
        "\n",
        "In this tutorial you'll learn how to use Arcade and LangGraph to\n",
        "- Build agents\n",
        "- Give tools that can interact with\n",
        "    - GMail\n",
        "    - Slack\n",
        "    - Notion\n",
        "- Implement safety guardrails when calling specific tools (Human-in-the-Loop)\n",
        "\n",
        "# Setup the environment\n",
        "\n",
        "Before getting into the code, let's setup our development environment with the right dependencies\n",
        "\n",
        "---\n",
        "\n"
      ]
    },
    {
      "cell_type": "markdown",
      "metadata": {},
      "source": [
        "## System Flow\n",
        "Here’s how a simple chatbot grows into a robust multi-user system with full safety controls:"
      ]
    },
    {
      "cell_type": "markdown",
      "metadata": {},
      "source": [
        "# <div align=\"center\">\n",
        "#   <img src=\"arcade-diagram.png\" alt=\"Arcade Multi-User Secure Tool Calling Architecture\" width=\"700\"/>\n",
        "# </div>\n"
      ]
    },
    {
      "cell_type": "markdown",
      "metadata": {
        "id": "setup_intro"
      },
      "source": [
        "## Development Environment Setup\n",
        "\n",
        "Before implementing our multi-user agent system, we need to establish a proper development environment with the necessary dependencies. The following installation includes LangGraph for agent orchestration, LangChain-Arcade for tool integration, and the core LangChain library with OpenAI support."
      ]
    },
    {
      "cell_type": "code",
      "execution_count": null,
      "metadata": {
        "id": "n7oa4BXM4aC_"
      },
      "outputs": [],
      "source": [
        "!pip install langgraph langchain-arcade \"langchain[openai]\""
      ]
    },
    {
      "cell_type": "markdown",
      "metadata": {
        "id": "uRn6t9KcATEZ"
      },
      "source": [
        "## API Key Configuration\n",
        "\n",
        "Our tutorial requires two essential API keys for operation. You will need an [OpenAI API](https://platform.openai.com/signup) key, as well as an [Arcade API](https://api.arcade.dev/signup?utm_source=github&utm_medium=notebook&utm_campaign=nir_diamant&utm_content=tutorial) key for this tutorial. Both services offer straightforward registration processes, with Arcade specifically designed to simplify the integration of external tools into AI applications."
      ]
    },
    {
      "cell_type": "code",
      "execution_count": null,
      "metadata": {
        "id": "BhvJyn38_ONA"
      },
      "outputs": [],
      "source": [
        "import getpass\n",
        "import os\n",
        "\n",
        "def _set_env(key: str, default: str | None):\n",
        "    if key not in os.environ:\n",
        "        if default:\n",
        "            os.environ[key] = default\n",
        "        else:\n",
        "            os.environ[key] = getpass.getpass(f\"{key}:\")\n",
        "\n",
        "\n",
        "_set_env(\"OPENAI_API_KEY\")\n",
        "_set_env(\"ARCADE_API_KEY\")"
      ]
    },
    {
      "cell_type": "markdown",
      "metadata": {
        "id": "pZBWSeQ3BSjP"
      },
      "source": [
        "## User Identity Configuration\n",
        "\n",
        "The Arcade platform requires user identification to properly manage tool authorizations and maintain security boundaries between different users. This identifier must correspond to the email address used during Arcade account creation, ensuring that tool permissions and OAuth tokens are correctly associated with the appropriate user account."
      ]
    },
    {
      "cell_type": "code",
      "execution_count": null,
      "metadata": {
        "id": "X46RlV2FAOZ3"
      },
      "outputs": [],
      "source": [
        "_set_env(\"ARCADE_USER_ID\")"
      ]
    },
    {
      "cell_type": "markdown",
      "metadata": {
        "id": "IXZQeoZADQ2W"
      },
      "source": [
        "# Simple Conversational Agent\n",
        "\n",
        "We begin our journey by implementing a basic conversational agent that demonstrates core LangGraph functionality without external tool dependencies. This foundational agent provides conversational capabilities with short-term memory, allowing it to maintain context throughout a conversation while establishing the architectural patterns we'll extend throughout this tutorial.\n",
        "\n",
        "## Core Agent Implementation\n",
        "\n",
        "The following implementation creates a React-style agent using [LangGraph and Arcade](https://docs.arcade.dev/home/langchain/use-arcade-tools#create-a-react-style-agent?utm_source=github&utm_medium=notebook&utm_campaign=nir_diamant&utm_content=tutorial). We configure it with conversation memory through a MemorySaver checkpointer, enabling the agent to remember previous interactions within the same conversation thread. The agent receives a clear prompt defining its helpful and concise personality, along with instructions for handling unclear requests."
      ]
    },
    {
      "cell_type": "code",
      "execution_count": null,
      "metadata": {
        "id": "XGoeXouDCPP2"
      },
      "outputs": [],
      "source": [
        "from langgraph.prebuilt.chat_agent_executor import create_react_agent\n",
        "from langgraph.checkpoint.memory import MemorySaver\n",
        "from langchain_core.messages import HumanMessage\n",
        "import uuid\n",
        "\n",
        "# create a checkpointer to persist the graph's state\n",
        "checkpointer = MemorySaver()\n",
        "\n",
        "agent_a = create_react_agent(\n",
        "    model=\"openai:gpt-5\",\n",
        "    prompt=\"You are a helpful assistant that can help with everyday tasks.\"\n",
        "           \" If the user's request is confusing you must ask them to clarify\"\n",
        "           \" their intent, and fulfill the instruction to the best of your\"\n",
        "           \" ability. Be concise and friendly at all times.\",\n",
        "    tools=[], # no tools for now!\n",
        "    checkpointer=checkpointer\n",
        ")"
      ]
    },
    {
      "cell_type": "markdown",
      "metadata": {
        "id": "_-Qgy4w-SYza"
      },
      "source": [
        "## Agent Interaction Utility\n",
        "\n",
        "To facilitate consistent interaction with our agents throughout this tutorial, we implement a utility function that streams agent responses and displays them in a readable format. This function processes the graph's streaming output and presents the latest message from each interaction cycle, providing immediate feedback during agent conversations."
      ]
    },
    {
      "cell_type": "code",
      "execution_count": null,
      "metadata": {
        "id": "g_4vqjs4TYw9"
      },
      "outputs": [],
      "source": [
        "from langgraph.graph.state import CompiledStateGraph\n",
        "def run_graph(graph: CompiledStateGraph, config, input):\n",
        "    for event in graph.stream(input, config=config, stream_mode=\"values\"):\n",
        "        if \"messages\" in event:\n",
        "            event[\"messages\"][-1].pretty_print()"
      ]
    },
    {
      "cell_type": "markdown",
      "metadata": {
        "id": "-QMaBKVDTE7x"
      },
      "source": [
        "## Interactive Chat Interface\n",
        "\n",
        "The following implementation provides a complete interactive chat interface for testing our basic agent. The system generates a unique conversation thread identifier for each session, enabling memory persistence across multiple exchanges within the same conversation. Users can engage naturally with the agent and terminate the session by typing \"exit\"."
      ]
    },
    {
      "cell_type": "code",
      "execution_count": null,
      "metadata": {
        "id": "dB4ok9QuaHuB"
      },
      "outputs": [],
      "source": [
        "# the configuration helps LangGraph keep track of conversations and interrups\n",
        "# While it's not needed for this agent. The agent will remember different\n",
        "# conversations based on the thread_id. This code generates a random id every\n",
        "# time you run the cell, but you can hardcode the thread_id if you want to\n",
        "# test the memory.\n",
        "config = {\n",
        "    \"configurable\": {\n",
        "        \"thread_id\": uuid.uuid4()\n",
        "    }\n",
        "}\n",
        "while True:\n",
        "    user_input = input(\"👤: \")\n",
        "    # let's use \"exit\" as a safe way to break the infinite loop\n",
        "    if user_input.lower() == \"exit\":\n",
        "        break\n",
        "\n",
        "    user_message = {\"messages\": [HumanMessage(content=user_input)]}\n",
        "    run_graph(agent_a, config, user_message)\n",
        "\n"
      ]
    },
    {
      "cell_type": "markdown",
      "metadata": {
        "id": "vIbelT1HdjWK"
      },
      "source": [
        "## Testing Agent Limitations\n",
        "\n",
        "To understand the boundaries of our basic agent, we'll test it with requests that require external data access. The following test demonstrates the agent's inability to provide current date information, as most language models lack real-time data access and may provide outdated or inaccurate temporal information."
      ]
    },
    {
      "cell_type": "code",
      "execution_count": null,
      "metadata": {
        "id": "kdoxSGrWdi5o"
      },
      "outputs": [],
      "source": [
        "config = {\n",
        "    \"configurable\": {\n",
        "        \"thread_id\": uuid.uuid4()\n",
        "    }\n",
        "}\n",
        "print(f'thread_id = {config[\"configurable\"][\"thread_id\"]}')\n",
        "\n",
        "prompt = \"what's today's date?\"\n",
        "user_message = {\"messages\": [HumanMessage(content=prompt)]}\n",
        "run_graph(agent_a, config, user_message)"
      ]
    },
    {
      "cell_type": "markdown",
      "metadata": {
        "id": "IqtcjJyshy_5"
      },
      "source": [
        "## Demonstrating Authentication Requirements\n",
        "\n",
        "The following test illustrates the agent's complete inability to access private, authenticated data sources. When asked to summarize personal emails, the agent cannot proceed without proper authentication mechanisms and authorized access to external services. This limitation highlights the critical need for secure tool integration in production agent systems."
      ]
    },
    {
      "cell_type": "code",
      "execution_count": null,
      "metadata": {
        "id": "B1FVKZI8aSd9"
      },
      "outputs": [],
      "source": [
        "config = {\n",
        "    \"configurable\": {\n",
        "        \"thread_id\": uuid.uuid4()\n",
        "    }\n",
        "}\n",
        "print(f'thread_id = {config[\"configurable\"][\"thread_id\"]}')\n",
        "\n",
        "prompt = \"summarize my latest 3 emails please\"\n",
        "user_message = {\"messages\": [HumanMessage(content=prompt)]}\n",
        "run_graph(agent_a, config, user_message)"
      ]
    },
    {
      "cell_type": "markdown",
      "metadata": {
        "id": "87UsfUXLiYF8"
      },
      "source": [
        "# Tool Integration with Secure Authentication\n",
        "\n",
        "Having established our basic agent architecture, we now address the core challenge of enabling secure access to external services. This section demonstrates how Arcade.dev solves the complex problem of tool-level authentication, providing a streamlined approach to OAuth integration that scales across multiple users and services.\n",
        "\n",
        "## Arcade Client Initialization\n",
        "\n",
        "We begin by establishing connections to the Arcade platform through both the core client and the LangChain integration layer. The ToolManager serves as our primary interface for configuring and authorizing tools, while the Arcade client handles the underlying authentication infrastructure."
      ]
    },
    {
      "cell_type": "code",
      "execution_count": null,
      "metadata": {
        "id": "MOBOOOUIiXhB"
      },
      "outputs": [],
      "source": [
        "from langchain_arcade import ToolManager\n",
        "from arcadepy import Arcade\n",
        "\n",
        "arcade_client = Arcade(api_key=os.getenv(\"ARCADE_API_KEY\"))\n",
        "manager = ToolManager(client=arcade_client)"
      ]
    },
    {
      "cell_type": "markdown",
      "metadata": {
        "id": "BydkuuNcHkcW"
      },
      "source": [
        "## Gmail Tool Configuration\n",
        "\n",
        "Our first tool integration focuses on Gmail access, specifically the email listing capability that our basic agent could not provide. The Gmail_ListEmails tool enables our agent to retrieve and analyze email data, but requires proper user authorization before it can access private email accounts."
      ]
    },
    {
      "cell_type": "code",
      "execution_count": null,
      "metadata": {
        "id": "grCECItHAZuN"
      },
      "outputs": [],
      "source": [
        "gmail_tool = manager.init_tools(tools=[\"Gmail_ListEmails\"])[0]"
      ]
    },
    {
      "cell_type": "markdown",
      "metadata": {
        "id": "wCr0OQK2LSAC"
      },
      "source": [
        "## Authorization Utility Function\n",
        "\n",
        "To streamline the authorization process throughout this tutorial, we implement a reusable function that handles OAuth flow initiation and completion. For reading our email, however, we need to give our app permissions to read it in a secure way. Arcade lets us do this easily by [handling the OAuth2 for us](https://docs.arcade.dev/home/auth/how-arcade-helps?utm_source=github&utm_medium=notebook&utm_campaign=nir_diamant&utm_content=tutorial). This function checks the current authorization status for a specific tool and user combination, initiating the OAuth process when necessary and waiting for user completion of the authorization flow."
      ]
    },
    {
      "cell_type": "code",
      "execution_count": null,
      "metadata": {
        "id": "Ya8W6YTSLOnk"
      },
      "outputs": [],
      "source": [
        "def authorize_tool(tool_name, user_id, manager):\n",
        "    # This line will check if this user is authorized to use the\n",
        "    # tool, and return a response that we can use if the user\n",
        "    # did not authorize the tool yet.\n",
        "    auth_response = manager.authorize(\n",
        "        tool_name=tool_name,\n",
        "        user_id=user_id\n",
        "    )\n",
        "    if auth_response.status != \"completed\":\n",
        "        print(f\"The app wants to use the {tool_name} tool.\\n\"\n",
        "              f\"Please click this url to authorize it {auth_response.url}\")\n",
        "        # wait until the user authorizes\n",
        "        manager.wait_for_auth(auth_response.id)\n"
      ]
    },
    {
      "cell_type": "markdown",
      "metadata": {
        "id": "wJvFv8bJNvP9"
      },
      "source": [
        "## Gmail Authorization Process\n",
        "\n",
        "The following cell initiates the authorization process for Gmail access. If the user has not previously granted permissions, Arcade will provide an OAuth URL for completing the authorization. Once authorized, the permission persists for future sessions, eliminating the need for repeated authorization flows."
      ]
    },
    {
      "cell_type": "code",
      "execution_count": null,
      "metadata": {
        "id": "MjhUMSLjhx64"
      },
      "outputs": [],
      "source": [
        "authorize_tool(gmail_tool.name, os.getenv(\"ARCADE_USER_ID\"), manager)"
      ]
    },
    {
      "cell_type": "markdown",
      "metadata": {
        "id": "x-1_smeZODch"
      },
      "source": [
        "## Enhanced Agent with Gmail Capabilities\n",
        "\n",
        "With Gmail authorization complete, we can now create an enhanced agent that incorporates email access capabilities. This agent retains all the conversational abilities of our basic implementation while adding the power to interact with authenticated email services. Notice the updated prompt that explicitly mentions Gmail capabilities and the inclusion of the user_id in the configuration for tool execution."
      ]
    },
    {
      "cell_type": "code",
      "execution_count": null,
      "metadata": {
        "id": "SldHpzT3LfUw"
      },
      "outputs": [],
      "source": [
        "# define a new agent, this time with access to our tool!\n",
        "agent_b = create_react_agent(\n",
        "    model=\"openai:gpt-5\",\n",
        "    prompt=\"You are a helpful assistant that can help with everyday tasks.\"\n",
        "           \" If the user's request is confusing you must ask them to clarify\"\n",
        "           \" their intent, and fulfill the instruction to the best of your\"\n",
        "           \" ability. Be concise and friendly at all times.\"\n",
        "           # It's useful to let the agent know about the tools it has at its disposal.\n",
        "           \" Use the Gmail tools that you have to address requests about emails.\",\n",
        "    tools=[gmail_tool], # we pass the tool we previously authorized.\n",
        "    checkpointer=checkpointer\n",
        ")\n",
        "\n",
        "config = {\n",
        "    \"configurable\": {\n",
        "        \"thread_id\": uuid.uuid4(),\n",
        "        \"user_id\": os.getenv(\"ARCADE_USER_ID\") # When using Arcade tools, we must provide the user_id on the LangGraph config, so Arcade can execute the tool invoked by the agent.\n",
        "    }\n",
        "}\n",
        "print(f'thread_id = {config[\"configurable\"][\"thread_id\"]}')\n",
        "\n",
        "# we're using the same prompt we use before, but we're swapping the agent\n",
        "prompt = \"summarize my latest 3 emails please\"\n",
        "user_message = {\"messages\": [HumanMessage(content=prompt)]}\n",
        "run_graph(agent_b, config, user_message)"
      ]
    },
    {
      "cell_type": "markdown",
      "metadata": {
        "id": "NsUxMfM4U4C3"
      },
      "source": [
        "# Multi-Service Tool Integration\n",
        "\n",
        "Building upon our successful Gmail integration, we now expand our agent's capabilities to include multiple external services. This section demonstrates how to efficiently manage authentication across multiple providers while maintaining security and user experience standards.\n",
        "\n",
        "## Batch Authorization Utility\n",
        "\n",
        "Managing multiple tool authorizations individually becomes cumbersome as our agent's capabilities expand. This requires [initializing multiple tools](https://docs.arcade.dev/home/faq#can-i-authenticate-multiple-tools-at-once?utm_source=github&utm_medium=notebook&utm_campaign=nir_diamant&utm_content=tutorial) for the agent, and authenticating the scope of each tool. The following function streamlines this process by grouping authorization scopes by provider, minimizing the number of OAuth flows users must complete while ensuring comprehensive tool access."
      ]
    },
    {
      "cell_type": "code",
      "execution_count": null,
      "metadata": {
        "id": "11jNclJROnIx"
      },
      "outputs": [],
      "source": [
        "def authorize_tools(tools, user_id, client):\n",
        "\n",
        "    # This will map all the providers to the specific scopes they need\n",
        "    provider_to_scopes = {}\n",
        "    for tool in tools:\n",
        "        provider = tool.requirements.authorization.provider_id\n",
        "        if provider not in provider_to_scopes:\n",
        "            provider_to_scopes[provider] = set()\n",
        "\n",
        "        if tool.requirements.authorization.oauth2.scopes:\n",
        "            provider_to_scopes[provider] |= set(tool.requirements.authorization.oauth2.scopes)\n",
        "\n",
        "    # Each provider will handle its own scopes, we iterate and present the\n",
        "    # auth URL for all providers that need it\n",
        "    for provider, scopes in provider_to_scopes.items():\n",
        "        # start auth\n",
        "        auth_response = client.auth.start(\n",
        "            user_id=user_id,\n",
        "            scopes=list(scopes),\n",
        "            provider=provider\n",
        "        )\n",
        "\n",
        "        # show the url to the user if needed\n",
        "        if auth_response.status != \"completed\":\n",
        "            print(f\"🔗 Please click here to authorize: {auth_response.url}\")\n",
        "            print(f\"⏳ Waiting for authorization completion...\")\n",
        "\n",
        "            # Wait for the authorization to complete with timeout\n",
        "            client.auth.wait_for_completion(auth_response),\n"
      ]
    },
    {
      "cell_type": "markdown",
      "metadata": {
        "id": "8wMoAAGj_yC-"
      },
      "source": [
        "## Comprehensive Tool Suite Configuration\n",
        "\n",
        "We now expand our agent's capabilities by incorporating tools for email sending, Slack communication, and Notion content management. This configuration provides our agent with the ability to not only read information from various services but also to create and send content, enabling more sophisticated workflow automation."
      ]
    },
    {
      "cell_type": "code",
      "execution_count": null,
      "metadata": {
        "id": "68qgfusi_qEH"
      },
      "outputs": [],
      "source": [
        "# add a single tool\n",
        "manager.add_tool(\"Gmail.SendEmail\")\n",
        "# add an entire toolkit (a collection of tools)\n",
        "manager.add_toolkit(\"Slack\")\n",
        "manager.add_toolkit(\"NotionToolkit\")"
      ]
    },
    {
      "cell_type": "markdown",
      "metadata": {
        "id": "LVPEiBwACTPD"
      },
      "source": [
        "## Multi-Service Authorization\n",
        "\n",
        "The following cell executes the authorization process for all configured tools simultaneously. This efficient approach minimizes user interaction while establishing the necessary permissions for Gmail, Slack, and Notion access. The batch authorization system automatically groups scopes by provider to present the minimum number of authorization flows."
      ]
    },
    {
      "cell_type": "code",
      "execution_count": null,
      "metadata": {
        "id": "PiFmqXwIBhZ3"
      },
      "outputs": [],
      "source": [
        "authorize_tools(\n",
        "    tools=manager.definitions,\n",
        "    user_id=os.getenv(\"ARCADE_USER_ID\"),\n",
        "    client=arcade_client\n",
        ")"
      ]
    },
    {
      "cell_type": "markdown",
      "metadata": {
        "id": "Ytx02aLNtc1O"
      },
      "source": [
        "## Multi-Service Agent Implementation\n",
        "\n",
        "With comprehensive tool authorization complete, we create our most capable agent yet. This implementation leverages the ToolManager's LangChain conversion functionality to provide seamless integration between Arcade's tool definitions and LangGraph's execution framework. The enhanced prompt guides the agent in selecting appropriate tools for different types of requests."
      ]
    },
    {
      "cell_type": "code",
      "execution_count": null,
      "metadata": {
        "id": "LwEo5NMDCjOr"
      },
      "outputs": [],
      "source": [
        "# define a new agent, this time with access to our tool!\n",
        "agent_c = create_react_agent(\n",
        "    model=\"openai:gpt-5\",\n",
        "    prompt=\"You are a helpful assistant that can help with everyday tasks.\"\n",
        "           \" If the user's request is confusing you must ask them to clarify\"\n",
        "           \" their intent, and fulfill the instruction to the best of your\"\n",
        "           \" ability. Be concise and friendly at all times.\"\n",
        "           # It's useful to let the agent know about the tools it has at its disposal.\n",
        "           \" Use the Gmail tools to address requests about reading or sending emails.\"\n",
        "           \" Use the Slack tools to address requests about interactions with users and channels in Slack.\"\n",
        "           \" Use the Notion tools to address requests about managing content in Notion Pages.\"\n",
        "           \" In general, when possible, use the most relevant tool for the job.\",\n",
        "    tools=manager.to_langchain(),\n",
        "    checkpointer=checkpointer\n",
        ")\n",
        "\n"
      ]
    },
    {
      "cell_type": "markdown",
      "metadata": {
        "id": "2QJpRCCDtotH"
      },
      "source": [
        "## Complex Multi-Service Task Execution\n",
        "\n",
        "This demonstration showcases our agent's ability to orchestrate complex workflows across multiple services. The request requires the agent to analyze email data, retrieve Slack communications, and explore Notion workspace structure, demonstrating sophisticated tool selection and execution coordination."
      ]
    },
    {
      "cell_type": "code",
      "execution_count": null,
      "metadata": {
        "id": "u_kHQILAtpLT"
      },
      "outputs": [],
      "source": [
        "config = {\n",
        "    \"configurable\": {\n",
        "        \"thread_id\": uuid.uuid4(),\n",
        "        \"user_id\": os.getenv(\"ARCADE_USER_ID\") # When using Arcade tools, we must provide the user_id on the LangGraph config, so Arcade can execute the tool invoked by the agent.\n",
        "    }\n",
        "}\n",
        "print(f'thread_id = {config[\"configurable\"][\"thread_id\"]}')\n",
        "\n",
        "# we're using the same prompt we use before, but we're swapping the agent\n",
        "prompt = \"summarize my latest 3 emails, then show me the latest 3 messages in the #general Slack channel, and tell me about the structure of my Notion Workspace\"\n",
        "user_message = {\"messages\": [HumanMessage(content=prompt)]}\n",
        "run_graph(agent_c, config, user_message)"
      ]
    },
    {
      "cell_type": "markdown",
      "metadata": {
        "id": "-VSr9Irl0S9q"
      },
      "source": [
        "# Human-in-the-Loop Safety Implementation\n",
        "\n",
        "While our multi-service agent demonstrates impressive capabilities, production systems require robust safety mechanisms to prevent unintended actions. This section implements human-in-the-loop controls for sensitive operations, ensuring that potentially harmful or irreversible actions require explicit user approval before execution.\n",
        "\n",
        "## Identifying Sensitive Operations\n",
        "\n",
        "Before implementing safety controls, we must identify which tools require human oversight. The following examination of available tools helps us categorize operations based on their potential impact and irreversibility."
      ]
    },
    {
      "cell_type": "code",
      "execution_count": null,
      "metadata": {
        "id": "rm9s1apYwJz6"
      },
      "outputs": [],
      "source": [
        "for tool_name, _ in manager:\n",
        "    print(tool_name)"
      ]
    },
    {
      "cell_type": "markdown",
      "metadata": {
        "id": "9N2BVf471hsh"
      },
      "source": [
        "## Sensitive Tool Classification\n",
        "\n",
        "Based on potential impact analysis, we identify tools that could cause unintended consequences if executed with incorrect parameters. These tools typically involve creating, sending, or modifying data rather than simply retrieving information. The classification focuses on operations that have external effects or could compromise user privacy or system integrity."
      ]
    },
    {
      "cell_type": "code",
      "execution_count": null,
      "metadata": {
        "id": "ujS4TWdyyJMn"
      },
      "outputs": [],
      "source": [
        "tools_to_protect = [\n",
        "    \"Gmail_SendEmail\",\n",
        "    \"Slack_SendDmToUser\",\n",
        "    \"Slack_SendMessage\",\n",
        "    \"Slack_SendMessageToChannel\",\n",
        "    \"NotionToolkit_AppendContentToEndOfPage\",\n",
        "    \"NotionToolkit_CreatePage\",\n",
        "]"
      ]
    },
    {
      "cell_type": "markdown",
      "metadata": {
        "id": "0ZnAe21B2LY4"
      },
      "source": [
        "## Human-in-the-Loop Tool Wrapper\n",
        "\n",
        "The following implementation creates a wrapper function that transforms regular tools into human-supervised versions. This wrapper intercepts tool execution requests, presents the planned action to the user for approval, and only proceeds with execution upon receiving explicit consent. The implementation leverages LangGraph's interrupt mechanism to pause execution pending user input."
      ]
    },
    {
      "cell_type": "code",
      "execution_count": null,
      "metadata": {
        "id": "K7X6Q-kK2I7g"
      },
      "outputs": [],
      "source": [
        "from typing import Callable, Any\n",
        "from langchain_core.tools import tool, BaseTool\n",
        "from langgraph.types import interrupt, Command\n",
        "from langchain_core.runnables import RunnableConfig\n",
        "import pprint\n",
        "\n",
        "\n",
        "def add_human_in_the_loop(\n",
        "    target_tool: Callable | BaseTool,\n",
        ") -> BaseTool:\n",
        "    \"\"\"Wrap a tool to support human-in-the-loop review.\"\"\"\n",
        "    if not isinstance(target_tool, BaseTool):\n",
        "        target_tool = tool(target_tool)\n",
        "\n",
        "    @tool(\n",
        "        target_tool.name,\n",
        "        description=target_tool.description,\n",
        "        args_schema=target_tool.args_schema\n",
        "    )\n",
        "    def call_tool_with_interrupt(config: RunnableConfig, **tool_input):\n",
        "\n",
        "        arguments = pprint.pformat(tool_input, indent=4)\n",
        "        response = interrupt(\n",
        "            f\"Do you allow the call to {target_tool.name} with arguments:\\n\"\n",
        "            f\"{arguments}\"\n",
        "        )\n",
        "\n",
        "        # approve the tool call\n",
        "        if response == \"yes\":\n",
        "            tool_response = target_tool.invoke(tool_input, config)\n",
        "        # deny tool call\n",
        "        elif response == \"no\":\n",
        "            tool_response = \"The User did not allow the tool to run\"\n",
        "        else:\n",
        "            raise ValueError(\n",
        "                f\"Unsupported interrupt response type: {response}\"\n",
        "            )\n",
        "\n",
        "        return tool_response\n",
        "\n",
        "    return call_tool_with_interrupt\n"
      ]
    },
    {
      "cell_type": "markdown",
      "metadata": {
        "id": "xxuss6126OTL"
      },
      "source": [
        "## Selective Tool Protection Application\n",
        "\n",
        "This implementation applies human-in-the-loop protection selectively, wrapping only the tools identified as sensitive while leaving read-only operations unchanged. This approach maintains agent efficiency for safe operations while ensuring appropriate oversight for potentially risky actions."
      ]
    },
    {
      "cell_type": "code",
      "execution_count": null,
      "metadata": {
        "id": "xbDtuwWW6RYt"
      },
      "outputs": [],
      "source": [
        "protected_tools = [\n",
        "    add_human_in_the_loop(t)\n",
        "    if t.name in tools_to_protect else t\n",
        "    for t in manager.to_langchain()\n",
        "]"
      ]
    },
    {
      "cell_type": "markdown",
      "metadata": {
        "id": "VcubdAhn5XBK"
      },
      "source": [
        "## Interrupt Handling Utilities\n",
        "\n",
        "LangGraph interrupts require specialized handling to resume execution after user input. The following utilities provide a user-friendly interface for approval decisions and automate the process of resuming agent execution with the user's response. The yes/no loop ensures clear decision-making while the interrupt handler manages the technical aspects of execution resumption."
      ]
    },
    {
      "cell_type": "code",
      "execution_count": null,
      "metadata": {
        "id": "mGljMTQw40ef"
      },
      "outputs": [],
      "source": [
        "def yes_no_loop(prompt: str) -> str:\n",
        "    \"\"\"\n",
        "    Force the user to say yes or no\n",
        "    \"\"\"\n",
        "    print(prompt)\n",
        "    user_input = input(\"Your response [y/n]: \")\n",
        "    while user_input.lower() not in [\"y\", \"n\"]:\n",
        "        user_input = input(\"Your response (must be 'y' or 'n'): \")\n",
        "    return \"yes\" if user_input.lower() == \"y\" else \"no\"\n",
        "\n",
        "\n",
        "def handle_interrupts(graph: CompiledStateGraph, config):\n",
        "    for interr in graph.get_state(config).interrupts:\n",
        "        approved = yes_no_loop(interr.value)\n",
        "        run_graph(graph, config, Command(resume=approved))\n"
      ]
    },
    {
      "cell_type": "markdown",
      "metadata": {
        "id": "YW6s8rcu6GSN"
      },
      "source": [
        "## Protected Agent Implementation\n",
        "\n",
        "Our final agent implementation incorporates comprehensive safety controls while maintaining all the multi-service capabilities developed throughout this tutorial. This agent represents a production-ready system that balances functionality with security, ensuring that users maintain control over sensitive operations while benefiting from automated assistance for routine tasks."
      ]
    },
    {
      "cell_type": "code",
      "execution_count": null,
      "metadata": {
        "id": "uLp5h3lc6AeH"
      },
      "outputs": [],
      "source": [
        "# define a new agent, this time with access to our tool!\n",
        "agent_hitl = create_react_agent(\n",
        "    model=\"openai:gpt-5\",\n",
        "    prompt=\"You are a helpful assistant that can help with everyday tasks.\"\n",
        "           \" If the user's request is confusing you must ask them to clarify\"\n",
        "           \" their intent, and fulfill the instruction to the best of your\"\n",
        "           \" ability. Be concise and friendly at all times.\"\n",
        "           # It's useful to let the agent know about the tools it has at its disposal.\n",
        "           \" Use the Gmail tools to address requests about reading or sending emails.\"\n",
        "           \" Use the Slack tools to address requests about interactions with users and channels in Slack.\"\n",
        "           \" Use the Notion tools to address requests about managing content in Notion Pages.\"\n",
        "           \" In general, when possible, use the most relevant tool for the job.\",\n",
        "    tools=protected_tools,\n",
        "    checkpointer=checkpointer\n",
        ")"
      ]
    },
    {
      "cell_type": "markdown",
      "metadata": {
        "id": "VN8vUcLa7Eps"
      },
      "source": [
        "## Safety Mechanism Demonstration\n",
        "\n",
        "The following test demonstrates our safety system in action by attempting to send a potentially sensitive email. This scenario illustrates how the human-in-the-loop mechanism intercepts the action, presents the details for user review, and awaits explicit approval before proceeding with execution."
      ]
    },
    {
      "cell_type": "code",
      "execution_count": null,
      "metadata": {
        "id": "eJ0jMQS47EMh"
      },
      "outputs": [],
      "source": [
        "config = {\n",
        "    \"configurable\": {\n",
        "        \"thread_id\": uuid.uuid4(),\n",
        "        \"user_id\": os.getenv(\"ARCADE_USER_ID\") # When using Arcade tools, we must provide the user_id on the LangGraph config, so Arcade can execute the tool invoked by the agent.\n",
        "    }\n",
        "}\n",
        "print(f'thread_id = {config[\"configurable\"][\"thread_id\"]}')\n",
        "\n",
        "# we're using the same prompt we use before, but we're swapping the agent\n",
        "prompt = 'send an email with subject \"confidential data\" and body \"this is top secret information\" to random-dude@example.com'\n",
        "user_message = {\"messages\": [HumanMessage(content=prompt)]}\n",
        "run_graph(agent_hitl, config, user_message)"
      ]
    },
    {
      "cell_type": "markdown",
      "metadata": {
        "id": "mkgu-xOG98m_"
      },
      "source": [
        "## Interrupt State Inspection\n",
        "\n",
        "When our safety system activates, the agent execution pauses and enters an interrupt state. The following examination reveals the pending approval request, demonstrating how the system captures the intended action details and awaits user decision before proceeding."
      ]
    },
    {
      "cell_type": "code",
      "execution_count": null,
      "metadata": {
        "id": "NEl6YVLB7by_"
      },
      "outputs": [],
      "source": [
        "agent_hitl.get_state(config).interrupts"
      ]
    },
    {
      "cell_type": "markdown",
      "metadata": {
        "id": "V_VU8x8T-e_A"
      },
      "source": [
        "## User Decision Processing\n",
        "\n",
        "The following cell processes the pending interrupt, presenting the action details to the user and collecting their approval decision. This demonstration shows how users can review potentially sensitive actions and make informed decisions about whether to proceed with agent-proposed operations."
      ]
    },
    {
      "cell_type": "code",
      "execution_count": null,
      "metadata": {
        "id": "oXgpU_kq-YyO"
      },
      "outputs": [],
      "source": [
        "handle_interrupts(agent_hitl, config)"
      ]
    },
    {
      "cell_type": "markdown",
      "metadata": {
        "id": "66CBg6Ul_CRr"
      },
      "source": [
        "## Complete Interactive System\n",
        "\n",
        "This final implementation provides a complete interactive system that combines all the capabilities developed throughout this tutorial. Users can engage in natural conversations with an agent that has access to multiple external services while maintaining safety through human-in-the-loop controls for sensitive operations. The system automatically handles authorization, tool execution, and safety approvals in a seamless user experience."
      ]
    },
    {
      "cell_type": "code",
      "execution_count": null,
      "metadata": {
        "id": "J8Ue3BIF-kdI"
      },
      "outputs": [],
      "source": [
        "config = {\n",
        "    \"configurable\": {\n",
        "        \"thread_id\": uuid.uuid4()\n",
        "    }\n",
        "}\n",
        "while True:\n",
        "    user_input = input(\"👤: \")\n",
        "    # let's use \"exit\" as a safe way to break the infinite loop\n",
        "    if user_input.lower() == \"exit\":\n",
        "        break\n",
        "\n",
        "    user_message = {\"messages\": [HumanMessage(content=user_input)]}\n",
        "\n",
        "    run_graph(agent_hitl, config, user_message)\n",
        "\n",
        "    handle_interrupts(agent_hitl, config)"
      ]
    }
  ],
  "metadata": {
    "colab": {
      "provenance": []
    },
    "kernelspec": {
      "display_name": "Python 3",
      "name": "python3"
    },
    "language_info": {
      "name": "python"
    }
  },
  "nbformat": 4,
  "nbformat_minor": 0
}
